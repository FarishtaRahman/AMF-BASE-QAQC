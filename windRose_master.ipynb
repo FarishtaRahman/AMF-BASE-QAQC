{
 "cells": [
  {
   "cell_type": "code",
   "id": "initial_id",
   "metadata": {
    "collapsed": true,
    "ExecuteTime": {
     "end_time": "2024-07-01T18:32:02.117460Z",
     "start_time": "2024-07-01T18:32:01.509984Z"
    }
   },
   "source": [
    "import os\n",
    "import pandas as pd\n",
    "import numpy as np\n",
    "from windrose import ProcessTable"
   ],
   "outputs": [],
   "execution_count": 1
  },
  {
   "metadata": {
    "ExecuteTime": {
     "end_time": "2024-07-01T18:32:10.243582Z",
     "start_time": "2024-07-01T18:32:02.117460Z"
    }
   },
   "cell_type": "code",
   "source": [
    "# Root directory containing the site directories\n",
    "root_directory = 'Dataset'\n",
    "\n",
    "# List of site directories that contain '_FULLSET_' in their names\n",
    "site_list = [d for d in os.listdir(root_directory) \n",
    "             if os.path.isdir(os.path.join(root_directory, d)) and '_FLUXNET_' in d]\n",
    "\n",
    "# Loop through each site directory\n",
    "for site in site_list:\n",
    "    site_path = os.path.join(root_directory, site)\n",
    "\n",
    "    # List all files in the site directory\n",
    "    file_list = os.listdir(site_path)\n",
    "\n",
    "    # Filter files that contain \"_FULLSET_\" and \"_HH_\" in their names\n",
    "    filtered_files = [file for file in file_list if \"_FULLSET_\" in file and \"_HH_\" in file]\n",
    "\n",
    "    # Loop through filtered files and import each as a DataFrame\n",
    "    for filtered_file in filtered_files:\n",
    "        file_path = os.path.join(site_path, filtered_file)\n",
    "\n",
    "        df = pd.read_csv(file_path)"
   ],
   "id": "7a6c8c56268f05cf",
   "outputs": [],
   "execution_count": 2
  },
  {
   "metadata": {
    "ExecuteTime": {
     "end_time": "2024-07-01T18:32:10.485724Z",
     "start_time": "2024-07-01T18:32:10.243582Z"
    }
   },
   "cell_type": "code",
   "source": [
    "# Drop rows where -9999 occurs in column 'WD' (wind direction)\n",
    "df_1 = df[df['WD'] != -9999]\n",
    "# df_1"
   ],
   "id": "1d650d9d8510a007",
   "outputs": [],
   "execution_count": 3
  },
  {
   "metadata": {
    "ExecuteTime": {
     "end_time": "2024-07-01T18:32:11.382358Z",
     "start_time": "2024-07-01T18:32:10.485724Z"
    }
   },
   "cell_type": "code",
   "source": [
    " # Extract time, speed, and direction\n",
    "time = df_1['TIMESTAMP_START']  # Assuming YYYYMMDDHHHH format\n",
    "speed = df_1['WS_F']\n",
    "direction = df_1['WD']\n",
    "\n",
    "# Convert time to datetime and extract hour and month\n",
    "time_series = pd.to_datetime(time, format='%Y%m%d%H%M')\n",
    "hourz = time_series.dt.hour\n",
    "monthz = time_series.dt.month"
   ],
   "id": "67109e627d297fa7",
   "outputs": [],
   "execution_count": 4
  },
  {
   "metadata": {
    "ExecuteTime": {
     "end_time": "2024-07-01T18:32:11.394105Z",
     "start_time": "2024-07-01T18:32:11.382358Z"
    }
   },
   "cell_type": "code",
   "source": [
    "# Create a new DataFrame with the required columns\n",
    "all_season_df = pd.DataFrame({\n",
    "    'month': monthz,\n",
    "    'hour': hourz,\n",
    "    'speed': speed,\n",
    "    'direction': direction\n",
    "})"
   ],
   "id": "a7751d7862495f13",
   "outputs": [],
   "execution_count": 5
  },
  {
   "metadata": {
    "ExecuteTime": {
     "end_time": "2024-07-01T18:32:11.405773Z",
     "start_time": "2024-07-01T18:32:11.394105Z"
    }
   },
   "cell_type": "code",
   "source": [
    "#defining months for seasons and day and night time hours\n",
    "all_season = list(range(1, 13))\n",
    "spring = [3, 4, 5]\n",
    "summer = [6, 7, 8]\n",
    "autumn = [9, 10, 11]\n",
    "winter = [12, 1, 2]\n",
    "day_time = list(range(6, 18))\n",
    "night_time = list(range(0, 6)) + list(range(18, 24))\n",
    "seasons = [all_season, spring, summer, autumn, winter]\n",
    "day_night = [day_time, night_time]\n",
    "season_names = ['Full_Year', 'Spring', 'Summer', 'Autumn', 'Winter']\n",
    "time_names = ['Daytime', 'Nighttime']"
   ],
   "id": "9d07e241d62810d2",
   "outputs": [],
   "execution_count": 6
  },
  {
   "metadata": {
    "ExecuteTime": {
     "end_time": "2024-07-01T18:32:11.420064Z",
     "start_time": "2024-07-01T18:32:11.405773Z"
    }
   },
   "cell_type": "code",
   "source": [
    "# User Defined Parameters\n",
    "ndirections      = 16\n",
    "\n",
    "# Calculate 95th percentile of wind speed\n",
    "percentile95 = np.percentile(speed, 95)\n",
    "\n",
    "# Wind speed bins\n",
    "bins1 = [0, 1, 4, 9, 16, 26, 37, 50]\n",
    "bins2 = np.linspace(0, percentile95, 8)\n",
    "\n",
    "vwinds = [bins1, bins2] "
   ],
   "id": "9359316e2de2731d",
   "outputs": [],
   "execution_count": 7
  },
  {
   "metadata": {
    "ExecuteTime": {
     "end_time": "2024-07-01T18:32:12.039312Z",
     "start_time": "2024-07-01T18:32:11.420064Z"
    }
   },
   "cell_type": "code",
   "source": [
    "for j, vwinds in enumerate(vwinds):\n",
    "    for c, season in enumerate(seasons):\n",
    "        season_df = all_season_df[all_season_df['month'].isin(season)]\n",
    "        \n",
    "        if c == 0:\n",
    "            filename = f'{season_names[c]}{j+1}'\n",
    "            ProcessTable(ndirections, vwinds,season_df, filename)\n",
    "        else:\n",
    "            for t, time in enumerate(day_night):\n",
    "                season_time_df = season_df[season_df['hour'].isin(time)]\n",
    "                filename = f'{season_names[c]}{time_names[t]}{j+1}'\n",
    "                ProcessTable(ndirections, vwinds,season_df, filename)"
   ],
   "id": "c86f142eee44ffa9",
   "outputs": [],
   "execution_count": 8
  },
  {
   "metadata": {
    "ExecuteTime": {
     "end_time": "2024-07-01T18:32:12.046379Z",
     "start_time": "2024-07-01T18:32:12.041337Z"
    }
   },
   "cell_type": "code",
   "source": "",
   "id": "72a0dea199b08340",
   "outputs": [],
   "execution_count": 8
  }
 ],
 "metadata": {
  "kernelspec": {
   "display_name": "Python 3",
   "language": "python",
   "name": "python3"
  },
  "language_info": {
   "codemirror_mode": {
    "name": "ipython",
    "version": 2
   },
   "file_extension": ".py",
   "mimetype": "text/x-python",
   "name": "python",
   "nbconvert_exporter": "python",
   "pygments_lexer": "ipython2",
   "version": "2.7.6"
  }
 },
 "nbformat": 4,
 "nbformat_minor": 5
}
